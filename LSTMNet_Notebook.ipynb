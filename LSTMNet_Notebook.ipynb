{
  "nbformat": 4,
  "nbformat_minor": 0,
  "metadata": {
    "colab": {
      "name": "LSTMNet_Notebook.ipynb",
      "provenance": [],
      "collapsed_sections": []
    },
    "kernelspec": {
      "name": "python3",
      "display_name": "Python 3"
    },
    "accelerator": "GPU"
  },
  "cells": [
    {
      "cell_type": "code",
      "metadata": {
        "id": "YfImuSHzSiwX",
        "colab_type": "code",
        "colab": {}
      },
      "source": [
        "# NAME PARAMS\n",
        "drive_folder = \"drive/My Drive/[NN] Music Generation/\"    # workspace folder in gdrive\n",
        "dataset_path = \"JazzDataset/\"                             # dataset path\n",
        "channel = \"Piano\"                                         # midi channel to extract\n",
        "\n",
        "name = \"test_name\"                                        # model name\n",
        "checkPoint_path = './checkpoint/weights_'+name+'.hdf5'    # path to save model\n",
        "log_dir = './logs'                                        # path for Tensorboard logs"
      ],
      "execution_count": 1,
      "outputs": []
    },
    {
      "cell_type": "code",
      "metadata": {
        "id": "qASrjkIw2_1o",
        "colab_type": "code",
        "colab": {}
      },
      "source": [
        "# TRAINING PARAMS\n",
        "vocab_threshold = 50\n",
        "seq_length = 64\n",
        "batch_size = 32\n",
        "n_epochs = 50\n",
        "test_ratio = 0.05\n",
        "\n",
        "# NET PARAMS\n",
        "hidden_units = 300\n",
        "dropout_rate = 0.1\n",
        "dense_units = 256\n",
        "optimizer_lstm = \"nadam\"\n",
        "loss_lstm = \"categorical_crossentropy\""
      ],
      "execution_count": 16,
      "outputs": []
    },
    {
      "cell_type": "markdown",
      "metadata": {
        "id": "_KkwVgvF2i6N",
        "colab_type": "text"
      },
      "source": [
        "#Drive Access"
      ]
    },
    {
      "cell_type": "code",
      "metadata": {
        "id": "BPUq3mmv1hji",
        "colab_type": "code",
        "colab": {
          "base_uri": "https://localhost:8080/",
          "height": 34
        },
        "outputId": "207b6435-f1e8-41ac-9ecf-9aba72ce681a"
      },
      "source": [
        "from google.colab import drive\n",
        "drive.mount('/content/drive')"
      ],
      "execution_count": 3,
      "outputs": [
        {
          "output_type": "stream",
          "text": [
            "Mounted at /content/drive\n"
          ],
          "name": "stdout"
        }
      ]
    },
    {
      "cell_type": "code",
      "metadata": {
        "id": "HhMw4jC12RqT",
        "colab_type": "code",
        "colab": {}
      },
      "source": [
        "import os\n",
        "os.chdir(drive_folder)"
      ],
      "execution_count": 4,
      "outputs": []
    },
    {
      "cell_type": "markdown",
      "metadata": {
        "id": "jGK7btlV2ovZ",
        "colab_type": "text"
      },
      "source": [
        "# Libraries"
      ]
    },
    {
      "cell_type": "code",
      "metadata": {
        "id": "tTs5G3WY098R",
        "colab_type": "code",
        "colab": {}
      },
      "source": [
        "from preprocessing import *\n",
        "from models import lstmNet\n",
        "from postprocessing import *\n",
        "from sklearn.model_selection import train_test_split\n",
        "from keras.callbacks import *"
      ],
      "execution_count": 5,
      "outputs": []
    },
    {
      "cell_type": "markdown",
      "metadata": {
        "id": "gWcZ4yhiFHeZ",
        "colab_type": "text"
      },
      "source": [
        "# Implementation"
      ]
    },
    {
      "cell_type": "code",
      "metadata": {
        "id": "_dsANJAa3UkD",
        "colab_type": "code",
        "colab": {
          "base_uri": "https://localhost:8080/",
          "height": 629
        },
        "outputId": "1e98fed2-06cc-444e-cb13-cae5781baba3"
      },
      "source": [
        "print(\"Loading MID dataset...\")\n",
        "mid_songs = load_dataset(dataset_path, channel)"
      ],
      "execution_count": null,
      "outputs": [
        {
          "output_type": "stream",
          "text": [
            "Loading MID dataset...\n",
            "Loading music from:  JazzDataset/Duke _ His Orchestra Ellington - Satin Doll 2.mid\n",
            "Loading music from:  JazzDataset/Louis Armstrong - Sweet Adeline.mid\n",
            "Loading music from:  JazzDataset/Ray_Charles_-_What_d_I_Say.mid\n",
            "Loading music from:  JazzDataset/Fats Waller - Wish Upon A Star.mid\n",
            "Loading music from:  JazzDataset/Ray_Charles_-_Georgia_On_My_Mind.mid\n",
            "Loading music from:  JazzDataset/Reinhardt Django - After You`ve Gone.mid\n",
            "Loading music from:  JazzDataset/Glenn _ His Orchestra Miller - Chattanooga Choo Choo 2.mid\n",
            "Loading music from:  JazzDataset/Jazz Standardsdiversen - Lullaby Of Birdland.mid\n",
            "Loading music from:  JazzDataset/Fitzgerald_Ella_Ray_Johnny_-_All_Of_Me.mid\n",
            "Loading music from:  JazzDataset/Fats Waller - Tea For Two.mid\n",
            "Loading music from:  JazzDataset/Duke _ His Orchestra Ellington - The Mooch.mid\n",
            "Loading music from:  JazzDataset/Louis Armstrong - C`Est Si Bon.mid\n",
            "Loading music from:  JazzDataset/Louis Prima - Sing Sing Sing.mid\n",
            "Loading music from:  JazzDataset/Count _ His Orchestra Basie - All Of Me.mid\n",
            "Loading music from:  JazzDataset/Glenn _ His Orchestra Miller - In The Mood 1.mid\n",
            "Loading music from:  JazzDataset/Royal Crown Revue — Hey Pachuco [MIDISTOCK.RU].mid\n",
            "Loading music from:  JazzDataset/afine-1.MID\n",
            "Loading music from:  JazzDataset/Duke _ His Orchestra Ellington - Take The `a` Train 1.mid\n",
            "Loading music from:  JazzDataset/Louis Prima - Just A Gigolo.mid\n",
            "Loading music from:  JazzDataset/Fats Waller - As Time Goes By.mid\n",
            "Loading music from:  JazzDataset/Duke _ His Orchestra Ellington - Perdido.mid\n",
            "Loading music from:  JazzDataset/Glenn _ His Orchestra Miller - Little Brown Jug.mid\n",
            "Loading music from:  JazzDataset/Glenn _ His Orchestra Miller - Moonlight Serenade 1.mid\n",
            "Loading music from:  JazzDataset/Fats Waller - Bill Bailey.mid\n",
            "Loading music from:  JazzDataset/Jazz Standardsdiversen - Misty 2.mid\n",
            "Loading music from:  JazzDataset/Glenn _ His Orchestra Miller - St Louis Blues.mid\n",
            "Loading music from:  JazzDataset/Nat `King` Cole - Smile.mid\n",
            "Loading music from:  JazzDataset/Glenn _ His Orchestra Miller - American Patrol 2.mid\n",
            "Loading music from:  JazzDataset/Duke _ His Orchestra Ellington - I Let A Song Go Out Of My Heart.mid\n",
            "Loading music from:  JazzDataset/Ray_Charles_-_Unchain_My_Heart.mid\n",
            "Loading music from:  JazzDataset/Jazz StandardsDiversen - Autumn Leaves.mid\n",
            "Loading music from:  JazzDataset/2_of_a_kind_jp.mid\n",
            "Loading music from:  JazzDataset/Fats Waller - Lonesome Road.mid\n",
            "Loading music from:  JazzDataset/Django Reinhardt - Minor Swing.mid\n",
            "Extracted Piano channel from 26 songs\n"
          ],
          "name": "stdout"
        }
      ]
    },
    {
      "cell_type": "code",
      "metadata": {
        "id": "pN7y7a5QTWQr",
        "colab_type": "code",
        "colab": {
          "base_uri": "https://localhost:8080/",
          "height": 51
        },
        "outputId": "25cf7aa9-d06f-46ec-f451-593701cf92d1"
      },
      "source": [
        "print(\"Loading CSV dataset...\")\n",
        "csv_songs = load_csv_dataset(\"./Jazz-midi.csv\")\n",
        "print(\"Extracted \"+str(len(csv_songs))+\" songs\")"
      ],
      "execution_count": 6,
      "outputs": [
        {
          "output_type": "stream",
          "text": [
            "Loading CSV dataset...\n",
            "Extracted 818 songs\n"
          ],
          "name": "stdout"
        }
      ]
    },
    {
      "cell_type": "code",
      "metadata": {
        "id": "N1V60rG0Tdsv",
        "colab_type": "code",
        "colab": {}
      },
      "source": [
        "#songs = mid_songs #+ csv_songs[0:400] # for full dataset\n",
        "#songs = mid_songs # only for JazzSet\n",
        "songs = csv_songs[0:50]"
      ],
      "execution_count": 10,
      "outputs": []
    },
    {
      "cell_type": "code",
      "metadata": {
        "id": "QXflbgDw_i_P",
        "colab_type": "code",
        "colab": {
          "base_uri": "https://localhost:8080/",
          "height": 51
        },
        "outputId": "8b3466b9-4996-4965-c1c3-c514e990f437"
      },
      "source": [
        "print(\"Creating vocabularies...\")\n",
        "vocab, inverted_vocab, counts = make_vocabs(songs, vocab_threshold)\n",
        "print(\"Vocabs size: \"+str(len(vocab)))"
      ],
      "execution_count": 12,
      "outputs": [
        {
          "output_type": "stream",
          "text": [
            "Creating vocabularies...\n",
            "Vocabs size: 108\n"
          ],
          "name": "stdout"
        }
      ]
    },
    {
      "cell_type": "code",
      "metadata": {
        "id": "ELKaArfTAMMC",
        "colab_type": "code",
        "colab": {
          "base_uri": "https://localhost:8080/",
          "height": 85
        },
        "outputId": "43b3676f-7a3c-4bf5-fff9-f8f7cd39ac74"
      },
      "source": [
        "print(\"Dataset preprocessing...\")\n",
        "x, y = dataset_preprocessing(songs, vocab, seq_length)\n",
        "print(\"Dataset Shape:\")\n",
        "print(\"|->X: \"+str(x.shape))\n",
        "print(\"|->Y: \"+str(y.shape))"
      ],
      "execution_count": 13,
      "outputs": [
        {
          "output_type": "stream",
          "text": [
            "Dataset preprocessing...\n",
            "Dataset Shape:\n",
            "|->X: (36757, 64, 1)\n",
            "|->Y: (36757, 108)\n"
          ],
          "name": "stdout"
        }
      ]
    },
    {
      "cell_type": "code",
      "metadata": {
        "id": "Zr1XhHfZEZzJ",
        "colab_type": "code",
        "colab": {
          "base_uri": "https://localhost:8080/",
          "height": 136
        },
        "outputId": "c7c3b39e-745c-48d7-efb2-758634985b82"
      },
      "source": [
        "print(\"Splitting dataset...\")\n",
        "train_x, dev_x, train_y, dev_y = train_test_split(x, y, test_size=test_ratio)\n",
        "print(\"Training-Set Shape:\")\n",
        "print(train_x.shape)\n",
        "print(train_y.shape)\n",
        "print(\"Dev-Set Shape:\")\n",
        "print(dev_x.shape)\n",
        "print(dev_y.shape)"
      ],
      "execution_count": 14,
      "outputs": [
        {
          "output_type": "stream",
          "text": [
            "Splitting dataset...\n",
            "Training-Set Shape:\n",
            "(34919, 64, 1)\n",
            "(34919, 108)\n",
            "Dev-Set Shape:\n",
            "(1838, 64, 1)\n",
            "(1838, 108)\n"
          ],
          "name": "stdout"
        }
      ]
    },
    {
      "cell_type": "code",
      "metadata": {
        "id": "3MENpFJVS5Ct",
        "colab_type": "code",
        "colab": {
          "base_uri": "https://localhost:8080/",
          "height": 615
        },
        "outputId": "02c230d3-be3e-40a7-913b-98935f974bfa"
      },
      "source": [
        "output_size = len(vocab)\n",
        "n_lstm = lstmNet(seq_length, hidden_units, dropout_rate, dense_units, output_size, optimizer_lstm, loss_lstm)\n",
        "n_lstm.summary()"
      ],
      "execution_count": 17,
      "outputs": [
        {
          "output_type": "stream",
          "text": [
            "(None, 64, 1)\n",
            "WARNING:tensorflow:Layer lstm will not use cuDNN kernel since it doesn't meet the cuDNN kernel criteria. It will use generic GPU kernel as fallback when running on GPU\n",
            "(None, 64, 300)\n",
            "WARNING:tensorflow:Layer lstm_1 will not use cuDNN kernel since it doesn't meet the cuDNN kernel criteria. It will use generic GPU kernel as fallback when running on GPU\n",
            "(None, 64, 300)\n",
            "(None, 300)\n",
            "(None, 300)\n",
            "(None, 256)\n",
            "(None, 256)\n",
            "(None, 108)\n",
            "Model: \"functional_1\"\n",
            "_________________________________________________________________\n",
            "Layer (type)                 Output Shape              Param #   \n",
            "=================================================================\n",
            "input_1 (InputLayer)         [(None, 64, 1)]           0         \n",
            "_________________________________________________________________\n",
            "lstm (LSTM)                  (None, 64, 300)           362400    \n",
            "_________________________________________________________________\n",
            "lstm_1 (LSTM)                (None, 64, 300)           721200    \n",
            "_________________________________________________________________\n",
            "lstm_2 (LSTM)                (None, 300)               721200    \n",
            "_________________________________________________________________\n",
            "flatten (Flatten)            (None, 300)               0         \n",
            "_________________________________________________________________\n",
            "dense (Dense)                (None, 256)               77056     \n",
            "_________________________________________________________________\n",
            "dropout (Dropout)            (None, 256)               0         \n",
            "_________________________________________________________________\n",
            "dense_1 (Dense)              (None, 108)               27756     \n",
            "=================================================================\n",
            "Total params: 1,909,612\n",
            "Trainable params: 1,909,612\n",
            "Non-trainable params: 0\n",
            "_________________________________________________________________\n"
          ],
          "name": "stdout"
        }
      ]
    },
    {
      "cell_type": "code",
      "metadata": {
        "id": "hUc1B-rNS6Zr",
        "colab_type": "code",
        "colab": {}
      },
      "source": [
        "callbacks = [ModelCheckpoint(filepath = checkPoint_path, save_weights_only=True, monitor='loss', mode='min', save_best_only=True), TensorBoard(log_dir=log_dir) ]\n",
        "history = n_lstm.fit(train_x, train_y, batch_size=batch_size, epochs = n_epochs, validation_data=(dev_x, dev_y), callbacks = callbacks, shuffle=True)"
      ],
      "execution_count": null,
      "outputs": []
    },
    {
      "cell_type": "code",
      "metadata": {
        "id": "TAIzOqxHJrQg",
        "colab_type": "code",
        "colab": {}
      },
      "source": [
        "model = n_lstm.load_weights(checkPoint_path)\n",
        "gen_song = generate_song(nn_wavenet, inverted_vocab, 100, train_x, seq_length)\n",
        "print(\"Generated song:\\n\",gen_song)\n",
        "create_midi(gen_song, \"Piano\", \"\", name+\".mid\")\n",
        "print(\"Song saved on drive.\")"
      ],
      "execution_count": null,
      "outputs": []
    }
  ]
}